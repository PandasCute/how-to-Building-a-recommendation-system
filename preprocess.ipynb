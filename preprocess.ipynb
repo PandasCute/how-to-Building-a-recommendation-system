{
 "cells": [
  {
   "cell_type": "markdown",
   "metadata": {},
   "source": [
    "这部分代码主要来源于    \n",
    "https://github.com/PandasCute/recommendation/blob/master/preprocess.py   \n",
    "主要是为了将data生成csv文件   \n",
    "这样我们就生成了users.csv:用户，ratings.csv:评分，movies.csv:电影三个表了"
   ]
  },
  {
   "cell_type": "code",
   "execution_count": 1,
   "metadata": {},
   "outputs": [
    {
     "name": "stderr",
     "output_type": "stream",
     "text": [
      "D:\\Anaconda3\\lib\\site-packages\\ipykernel_launcher.py:3: FutureWarning: read_table is deprecated, use read_csv instead.\n",
      "  This is separate from the ipykernel package so we can avoid doing imports until\n",
      "D:\\Anaconda3\\lib\\site-packages\\ipykernel_launcher.py:7: FutureWarning: read_table is deprecated, use read_csv instead.\n",
      "  import sys\n",
      "D:\\Anaconda3\\lib\\site-packages\\ipykernel_launcher.py:11: FutureWarning: read_table is deprecated, use read_csv instead.\n",
      "  # This is added back by InteractiveShellApp.init_path()\n"
     ]
    }
   ],
   "source": [
    "import pandas as pd\n",
    "users  = pd.read_table('./input/users.dat', sep='::', engine='python',\n",
    "                          names=['userID', 'Gender', 'Age', 'Occupation', 'Zip-code'])\n",
    "users.to_csv('./input/users.csv', index=False)\n",
    "\n",
    "ratings = pd.read_table('./input/ratings.dat', sep='::', engine='python',\n",
    "                  names=['UserID', 'MovieID', 'Rating', 'Timestamp'])\n",
    "ratings.to_csv('./input/ratings.csv', index=False)\n",
    "\n",
    "movies= pd.read_table('./input/movies.dat', sep='::', engine='python',\n",
    "                  names=['MovieID', 'Title', 'Genres'])\n",
    "movies.to_csv('./input/movies.csv', index=False)"
   ]
  }
 ],
 "metadata": {
  "kernelspec": {
   "display_name": "Python 3",
   "language": "python",
   "name": "python3"
  },
  "language_info": {
   "codemirror_mode": {
    "name": "ipython",
    "version": 3
   },
   "file_extension": ".py",
   "mimetype": "text/x-python",
   "name": "python",
   "nbconvert_exporter": "python",
   "pygments_lexer": "ipython3",
   "version": "3.7.3"
  }
 },
 "nbformat": 4,
 "nbformat_minor": 2
}
