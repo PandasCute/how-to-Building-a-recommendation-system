{
 "cells": [
  {
   "cell_type": "markdown",
   "metadata": {},
   "source": [
    "计算余弦相似度的函数"
   ]
  },
  {
   "cell_type": "code",
   "execution_count": 6,
   "metadata": {},
   "outputs": [],
   "source": [
    "import pandas as pd\n",
    "import math\n",
    "def calcuteSimilar(series1,series2):\n",
    "    #series1,series2交集的长度\n",
    "    unionLen = len(set(series1)& set(series2))\n",
    "    if unionLen == 0: return 0.0\n",
    "    product = len(series1)*len(series2)\n",
    "    similarity = unionLen/math.sqrt(product)\n",
    "    return similarity"
   ]
  },
  {
   "cell_type": "code",
   "execution_count": 7,
   "metadata": {},
   "outputs": [],
   "source": [
    "frame = pd.read_csv('./input/ratings.csv')  "
   ]
  },
  {
   "cell_type": "code",
   "execution_count": 9,
   "metadata": {},
   "outputs": [],
   "source": [
    "#取UserID ==targetID ，假如你希望心仪的女孩子是targetID\n",
    "targetID=1\n",
    "# 找出心仪女孩子看过的 电影MovieID\n",
    "targetUser = frame[frame['UserID'] == targetID]['MovieID']  #目标用户数据\n",
    "## 找到其他用户id\n",
    "otherUsersID = [i for i in set(frame['UserID']) if i != targetID]                   #其他用户ID\n",
    "#  找到其他用户 不是你心仪女孩子的观看过的电影列表numpy 矩阵（注意，不是 其他人的用户id，是电影矩阵，不信\n",
    "#你看下面）\n",
    "otherUsers = [frame[frame['UserID'] == i]['MovieID'] for i in otherUsersID]         #其他用户数据\n",
    "# 计算你心仪对象和其他人的相似度\n",
    "similarlist = [calcuteSimilar(targetUser,user) for user in otherUsers]              #计算\n",
    "# Series 格式\n",
    "similarSeries = pd.Series(similarlist,index=otherUsersID)\n"
   ]
  },
  {
   "cell_type": "code",
   "execution_count": 10,
   "metadata": {},
   "outputs": [
    {
     "name": "stdout",
     "output_type": "stream",
     "text": [
      "681     0.311960\n",
      "5762    0.315668\n",
      "4718    0.315709\n",
      "1858    0.319137\n",
      "6006    0.320719\n",
      "5705    0.334187\n",
      "1283    0.364549\n",
      "5190    0.377051\n",
      "1481    0.384610\n",
      "5343    0.389188\n",
      "dtype: float64\n"
     ]
    }
   ],
   "source": [
    "#显示 和心仪对象最像 用户 id\n",
    "print(similarSeries.sort_values()[-10:])"
   ]
  },
  {
   "cell_type": "code",
   "execution_count": 17,
   "metadata": {},
   "outputs": [
    {
     "name": "stdout",
     "output_type": "stream",
     "text": [
      "6039\n"
     ]
    }
   ],
   "source": [
    "print(len(otherUsersID))"
   ]
  },
  {
   "cell_type": "code",
   "execution_count": 18,
   "metadata": {},
   "outputs": [
    {
     "data": {
      "text/plain": [
       "[53     1357\n",
       " 54     3068\n",
       " 55     1537\n",
       " 56      647\n",
       " 57     2194\n",
       " 58      648\n",
       " 59     2268\n",
       " 60     2628\n",
       " 61     1103\n",
       " 62     2916\n",
       " 63     3468\n",
       " 64     1210\n",
       " 65     1792\n",
       " 66     1687\n",
       " 67     1213\n",
       " 68     3578\n",
       " 69     2881\n",
       " 70     3030\n",
       " 71     1217\n",
       " 72     3105\n",
       " 73      434\n",
       " 74     2126\n",
       " 75     3107\n",
       " 76     3108\n",
       " 77     3035\n",
       " 78     1253\n",
       " 79     1610\n",
       " 80      292\n",
       " 81     2236\n",
       " 82     3071\n",
       "        ... \n",
       " 152     380\n",
       " 153    2501\n",
       " 154     349\n",
       " 155     457\n",
       " 156    1096\n",
       " 157     920\n",
       " 158     459\n",
       " 159    1527\n",
       " 160    3418\n",
       " 161    1385\n",
       " 162    3451\n",
       " 163    3095\n",
       " 164     780\n",
       " 165     498\n",
       " 166    2728\n",
       " 167    2002\n",
       " 168    1962\n",
       " 169    1784\n",
       " 170    2943\n",
       " 171    2006\n",
       " 172     318\n",
       " 173    1207\n",
       " 174    1968\n",
       " 175    3678\n",
       " 176    1244\n",
       " 177     356\n",
       " 178    1245\n",
       " 179    1246\n",
       " 180    3893\n",
       " 181    1247\n",
       " Name: MovieID, Length: 129, dtype: int64, 182    3421\n",
       " 183    1641\n",
       " 184     648\n",
       " 185    1394\n",
       " 186    3534\n",
       " 187     104\n",
       " 188    2735\n",
       " 189    1210\n",
       " 190    1431\n",
       " 191    3868\n",
       " 192    1079\n",
       " 193    2997\n",
       " 194    1615\n",
       " 195    1291\n",
       " 196    1259\n",
       " 197     653\n",
       " 198    2167\n",
       " 199    1580\n",
       " 200    3619\n",
       " 201     260\n",
       " 202    2858\n",
       " 203    3114\n",
       " 204    1049\n",
       " 205    1261\n",
       " 206     552\n",
       " 207     480\n",
       " 208    1265\n",
       " 209    1266\n",
       " 210     733\n",
       " 211    1196\n",
       " 212     590\n",
       " 213    2355\n",
       " 214    1197\n",
       " 215    1198\n",
       " 216    1378\n",
       " 217     593\n",
       " 218    1379\n",
       " 219    3552\n",
       " 220    1304\n",
       " 221    1270\n",
       " 222    2470\n",
       " 223    3168\n",
       " 224    2617\n",
       " 225    1961\n",
       " 226    3671\n",
       " 227    2006\n",
       " 228    2871\n",
       " 229    2115\n",
       " 230    1968\n",
       " 231    1136\n",
       " 232    2081\n",
       " Name: MovieID, dtype: int64]"
      ]
     },
     "execution_count": 18,
     "metadata": {},
     "output_type": "execute_result"
    }
   ],
   "source": [
    "otherUsers[:2]"
   ]
  },
  {
   "cell_type": "code",
   "execution_count": null,
   "metadata": {},
   "outputs": [],
   "source": []
  }
 ],
 "metadata": {
  "kernelspec": {
   "display_name": "Python 3",
   "language": "python",
   "name": "python3"
  },
  "language_info": {
   "codemirror_mode": {
    "name": "ipython",
    "version": 3
   },
   "file_extension": ".py",
   "mimetype": "text/x-python",
   "name": "python",
   "nbconvert_exporter": "python",
   "pygments_lexer": "ipython3",
   "version": "3.7.3"
  }
 },
 "nbformat": 4,
 "nbformat_minor": 2
}
